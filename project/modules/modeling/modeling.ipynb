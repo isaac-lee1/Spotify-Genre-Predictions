{
 "cells": [
  {
   "cell_type": "code",
   "execution_count": 14,
   "id": "c4436570-c3ee-49ed-ad94-48749b91c1de",
   "metadata": {},
   "outputs": [],
   "source": [
    "import pandas as pd\n",
    "import numpy as np\n",
    "from sklearn.tree import DecisionTreeClassifier # Import Decision Tree Classifier\n",
    "from sklearn.model_selection import train_test_split # Import train_test_split function\n",
    "from sklearn import metrics #Import scikit-learn metrics module for accuracy calculation\n",
    "\n",
    "# import Random Forest classifier\n",
    "from sklearn.ensemble import RandomForestClassifier\n",
    "# Check accuracy score \n",
    "from sklearn.metrics import accuracy_score\n",
    "\n",
    "import xgboost as xgb\n",
    "from sklearn.metrics import mean_squared_error\n",
    "\n",
    "from sklearn import svm\n",
    "\n",
    "# training the model on training set\n",
    "from sklearn.naive_bayes import GaussianNB\n",
    "\n",
    "from sklearn.preprocessing import StandardScaler, RobustScaler, QuantileTransformer\n",
    "from sklearn.feature_selection import SelectKBest, f_regression\n",
    "from sklearn.decomposition import PCA\n",
    "from sklearn.linear_model import Ridge\n",
    "from sklearn.model_selection import GridSearchCV\n",
    "from sklearn.pipeline import Pipeline, FeatureUnion\n",
    "\n",
    "from sklearn.model_selection import train_test_split\n",
    "import re\n",
    "import pickle\n",
    "\n",
    "import matplotlib.pyplot as plt"
   ]
  },
  {
   "cell_type": "code",
   "execution_count": 67,
   "id": "f4b1a145-b101-4ba2-83ae-750542757252",
   "metadata": {},
   "outputs": [
    {
     "data": {
      "text/plain": [
       "42"
      ]
     },
     "execution_count": 67,
     "metadata": {},
     "output_type": "execute_result"
    }
   ],
   "source": [
    "import gc\n",
    "gc.collect()"
   ]
  },
  {
   "cell_type": "code",
   "execution_count": 2,
   "id": "101626d5-c511-45db-92b9-14331d28ead8",
   "metadata": {},
   "outputs": [],
   "source": [
    "df = pd.read_csv('../../../data/clean_data/data_clean.csv')\n",
    "df_scaled = pd.read_csv('../../../data/clean_data/data_scaled.csv')"
   ]
  },
  {
   "cell_type": "code",
   "execution_count": 11,
   "id": "bf6ce822-f6d4-4028-ae02-4aa0a4e97f6f",
   "metadata": {},
   "outputs": [],
   "source": [
    "# categorize each feature for encoding or scaling\n",
    "cat_feats = ['artist_name', 'key', 'mode', 'music_genre']\n",
    "cat_feats_ohe = ['artist_name', 'mode']\n",
    "cat_feats_le = ['music_genre']\n",
    "\n",
    "num_feats = ['popularity', 'acousticness','danceability', 'duration_ms', 'energy', 'instrumentalness', 'liveness', 'loudness', 'speechiness', 'tempo', 'valence']\n",
    "num_feats_scale = ['popularity', 'duration_ms_imp', 'loudness', 'tempo_imp']\n",
    "num_feats_imp_mean = ['duration_ms']\n",
    "num_feats_imp_median = ['tempo']"
   ]
  },
  {
   "cell_type": "code",
   "execution_count": null,
   "id": "2ba558d0-981b-4ba9-b4e3-cba99cdc5134",
   "metadata": {},
   "outputs": [],
   "source": []
  },
  {
   "cell_type": "code",
   "execution_count": null,
   "id": "76ad5908-4af7-45af-9f75-de0b95968abb",
   "metadata": {},
   "outputs": [],
   "source": [
    "music_genre = ['Alternative', 'Anime', 'Blues', 'Classical', 'Country', 'Electronic', 'Hip-Hop', 'Jazz', 'Rap', 'Rock']"
   ]
  },
  {
   "cell_type": "code",
   "execution_count": 14,
   "id": "bc5689dd-41d7-492a-bc5b-ce14dd7ad892",
   "metadata": {},
   "outputs": [],
   "source": [
    "feats = ['popularity', 'acousticness','danceability', 'duration_ms_imp', 'energy', 'instrumentalness', 'loudness', 'speechiness', 'tempo_imp', 'valence', 'mode_Major', 'mode_Minor']"
   ]
  },
  {
   "cell_type": "code",
   "execution_count": 67,
   "id": "274362e6-051a-4233-b725-74d4460ca848",
   "metadata": {},
   "outputs": [
    {
     "data": {
      "text/plain": [
       "(40560, 15)"
      ]
     },
     "execution_count": 67,
     "metadata": {},
     "output_type": "execute_result"
    }
   ],
   "source": [
    "df_scaled.shape"
   ]
  },
  {
   "cell_type": "code",
   "execution_count": 3,
   "id": "c65abcbe-139a-4971-9fc8-a560f196895f",
   "metadata": {},
   "outputs": [],
   "source": [
    "# get rid of unwanted values\n",
    "df_scaled.columns = df_scaled.columns.str.translate(\"\".maketrans({\"[\":\"{\", \"]\":\"}\",\"<\":\"^\"}))"
   ]
  },
  {
   "cell_type": "code",
   "execution_count": null,
   "id": "02d697f1-755a-4894-8f6d-f3815081dcba",
   "metadata": {},
   "outputs": [],
   "source": []
  },
  {
   "cell_type": "code",
   "execution_count": 4,
   "id": "6b6e1dda-d414-40af-879d-1351f739980e",
   "metadata": {},
   "outputs": [],
   "source": [
    "# identify target variable\n",
    "df_target = df_scaled['music_genre']"
   ]
  },
  {
   "cell_type": "code",
   "execution_count": 5,
   "id": "c1873b5e-d6ba-4c17-b438-c7b8002e642d",
   "metadata": {},
   "outputs": [],
   "source": [
    "# identify input variables\n",
    "df_input = df_scaled.drop('music_genre', axis=1)"
   ]
  },
  {
   "cell_type": "code",
   "execution_count": 6,
   "id": "b05ef4c9-1e96-4f08-ad1f-06e529248abc",
   "metadata": {},
   "outputs": [],
   "source": [
    "# make separate input for feature selection\n",
    "df_input_selection = df_scaled.drop(['music_genre', 'liveness', 'key', 'energy', 'valence', 'duration_ms_imp', 'tempo_imp'], axis=1)"
   ]
  },
  {
   "cell_type": "code",
   "execution_count": 15,
   "id": "43240c86-df3c-4333-ad9c-23f5696f9bcb",
   "metadata": {},
   "outputs": [],
   "source": [
    "# make separate input for feature selection\n",
    "df_input_selection = df_scaled[feats]"
   ]
  },
  {
   "cell_type": "code",
   "execution_count": 60,
   "id": "311ec516-8fd4-4fd1-8263-4ba9fd7746e5",
   "metadata": {},
   "outputs": [
    {
     "data": {
      "text/html": [
       "<div>\n",
       "<style scoped>\n",
       "    .dataframe tbody tr th:only-of-type {\n",
       "        vertical-align: middle;\n",
       "    }\n",
       "\n",
       "    .dataframe tbody tr th {\n",
       "        vertical-align: top;\n",
       "    }\n",
       "\n",
       "    .dataframe thead th {\n",
       "        text-align: right;\n",
       "    }\n",
       "</style>\n",
       "<table border=\"1\" class=\"dataframe\">\n",
       "  <thead>\n",
       "    <tr style=\"text-align: right;\">\n",
       "      <th></th>\n",
       "      <th>popularity</th>\n",
       "      <th>acousticness</th>\n",
       "      <th>danceability</th>\n",
       "      <th>instrumentalness</th>\n",
       "      <th>loudness</th>\n",
       "      <th>speechiness</th>\n",
       "      <th>artist_name_!!!</th>\n",
       "      <th>artist_name_\"Weird Al\" Yankovic</th>\n",
       "      <th>artist_name_$NOT</th>\n",
       "      <th>artist_name_$tupid Young</th>\n",
       "      <th>...</th>\n",
       "      <th>artist_name_川田まみ</th>\n",
       "      <th>artist_name_彩音</th>\n",
       "      <th>artist_name_春音あいら(CV.阿澄佳奈)</th>\n",
       "      <th>artist_name_棗坂シキ(CV.平川大輔)</th>\n",
       "      <th>artist_name_楚神ウリエ(CV.近藤隆)</th>\n",
       "      <th>artist_name_立華リツカ(CV.茜屋日海夏)</th>\n",
       "      <th>artist_name_鉤貫レム(CV.斉藤壮馬)</th>\n",
       "      <th>artist_name_黒崎真音</th>\n",
       "      <th>mode_Major</th>\n",
       "      <th>mode_Minor</th>\n",
       "    </tr>\n",
       "  </thead>\n",
       "  <tbody>\n",
       "    <tr>\n",
       "      <th>0</th>\n",
       "      <td>-1.027184</td>\n",
       "      <td>0.00468</td>\n",
       "      <td>0.652</td>\n",
       "      <td>0.79200</td>\n",
       "      <td>0.651238</td>\n",
       "      <td>0.0748</td>\n",
       "      <td>0</td>\n",
       "      <td>0</td>\n",
       "      <td>0</td>\n",
       "      <td>0</td>\n",
       "      <td>...</td>\n",
       "      <td>0</td>\n",
       "      <td>0</td>\n",
       "      <td>0</td>\n",
       "      <td>0</td>\n",
       "      <td>0</td>\n",
       "      <td>0</td>\n",
       "      <td>0</td>\n",
       "      <td>0</td>\n",
       "      <td>0</td>\n",
       "      <td>1</td>\n",
       "    </tr>\n",
       "    <tr>\n",
       "      <th>1</th>\n",
       "      <td>-0.764339</td>\n",
       "      <td>0.01270</td>\n",
       "      <td>0.622</td>\n",
       "      <td>0.95000</td>\n",
       "      <td>0.360987</td>\n",
       "      <td>0.0300</td>\n",
       "      <td>0</td>\n",
       "      <td>0</td>\n",
       "      <td>0</td>\n",
       "      <td>0</td>\n",
       "      <td>...</td>\n",
       "      <td>0</td>\n",
       "      <td>0</td>\n",
       "      <td>0</td>\n",
       "      <td>0</td>\n",
       "      <td>0</td>\n",
       "      <td>0</td>\n",
       "      <td>0</td>\n",
       "      <td>0</td>\n",
       "      <td>0</td>\n",
       "      <td>1</td>\n",
       "    </tr>\n",
       "    <tr>\n",
       "      <th>2</th>\n",
       "      <td>-0.961473</td>\n",
       "      <td>0.00306</td>\n",
       "      <td>0.620</td>\n",
       "      <td>0.01180</td>\n",
       "      <td>0.743261</td>\n",
       "      <td>0.0345</td>\n",
       "      <td>0</td>\n",
       "      <td>0</td>\n",
       "      <td>0</td>\n",
       "      <td>0</td>\n",
       "      <td>...</td>\n",
       "      <td>0</td>\n",
       "      <td>0</td>\n",
       "      <td>0</td>\n",
       "      <td>0</td>\n",
       "      <td>0</td>\n",
       "      <td>0</td>\n",
       "      <td>0</td>\n",
       "      <td>0</td>\n",
       "      <td>1</td>\n",
       "      <td>0</td>\n",
       "    </tr>\n",
       "    <tr>\n",
       "      <th>3</th>\n",
       "      <td>-0.567206</td>\n",
       "      <td>0.02540</td>\n",
       "      <td>0.774</td>\n",
       "      <td>0.00253</td>\n",
       "      <td>0.762012</td>\n",
       "      <td>0.2390</td>\n",
       "      <td>0</td>\n",
       "      <td>0</td>\n",
       "      <td>0</td>\n",
       "      <td>0</td>\n",
       "      <td>...</td>\n",
       "      <td>0</td>\n",
       "      <td>0</td>\n",
       "      <td>0</td>\n",
       "      <td>0</td>\n",
       "      <td>0</td>\n",
       "      <td>0</td>\n",
       "      <td>0</td>\n",
       "      <td>0</td>\n",
       "      <td>1</td>\n",
       "      <td>0</td>\n",
       "    </tr>\n",
       "    <tr>\n",
       "      <th>4</th>\n",
       "      <td>-0.698628</td>\n",
       "      <td>0.00465</td>\n",
       "      <td>0.638</td>\n",
       "      <td>0.90900</td>\n",
       "      <td>0.483422</td>\n",
       "      <td>0.0413</td>\n",
       "      <td>0</td>\n",
       "      <td>0</td>\n",
       "      <td>0</td>\n",
       "      <td>0</td>\n",
       "      <td>...</td>\n",
       "      <td>0</td>\n",
       "      <td>0</td>\n",
       "      <td>0</td>\n",
       "      <td>0</td>\n",
       "      <td>0</td>\n",
       "      <td>0</td>\n",
       "      <td>0</td>\n",
       "      <td>0</td>\n",
       "      <td>1</td>\n",
       "      <td>0</td>\n",
       "    </tr>\n",
       "  </tbody>\n",
       "</table>\n",
       "<p>5 rows × 6650 columns</p>\n",
       "</div>"
      ],
      "text/plain": [
       "   popularity  acousticness  danceability  instrumentalness  loudness  \\\n",
       "0   -1.027184       0.00468         0.652           0.79200  0.651238   \n",
       "1   -0.764339       0.01270         0.622           0.95000  0.360987   \n",
       "2   -0.961473       0.00306         0.620           0.01180  0.743261   \n",
       "3   -0.567206       0.02540         0.774           0.00253  0.762012   \n",
       "4   -0.698628       0.00465         0.638           0.90900  0.483422   \n",
       "\n",
       "   speechiness  artist_name_!!!  artist_name_\"Weird Al\" Yankovic  \\\n",
       "0       0.0748                0                                0   \n",
       "1       0.0300                0                                0   \n",
       "2       0.0345                0                                0   \n",
       "3       0.2390                0                                0   \n",
       "4       0.0413                0                                0   \n",
       "\n",
       "   artist_name_$NOT  artist_name_$tupid Young  ...  artist_name_川田まみ  \\\n",
       "0                 0                         0  ...                 0   \n",
       "1                 0                         0  ...                 0   \n",
       "2                 0                         0  ...                 0   \n",
       "3                 0                         0  ...                 0   \n",
       "4                 0                         0  ...                 0   \n",
       "\n",
       "   artist_name_彩音  artist_name_春音あいら(CV.阿澄佳奈)  artist_name_棗坂シキ(CV.平川大輔)  \\\n",
       "0               0                           0                          0   \n",
       "1               0                           0                          0   \n",
       "2               0                           0                          0   \n",
       "3               0                           0                          0   \n",
       "4               0                           0                          0   \n",
       "\n",
       "   artist_name_楚神ウリエ(CV.近藤隆)  artist_name_立華リツカ(CV.茜屋日海夏)  \\\n",
       "0                          0                            0   \n",
       "1                          0                            0   \n",
       "2                          0                            0   \n",
       "3                          0                            0   \n",
       "4                          0                            0   \n",
       "\n",
       "   artist_name_鉤貫レム(CV.斉藤壮馬)  artist_name_黒崎真音  mode_Major  mode_Minor  \n",
       "0                          0                 0           0           1  \n",
       "1                          0                 0           0           1  \n",
       "2                          0                 0           1           0  \n",
       "3                          0                 0           1           0  \n",
       "4                          0                 0           1           0  \n",
       "\n",
       "[5 rows x 6650 columns]"
      ]
     },
     "execution_count": 60,
     "metadata": {},
     "output_type": "execute_result"
    }
   ],
   "source": [
    "df_input_selection.head()"
   ]
  },
  {
   "cell_type": "code",
   "execution_count": 19,
   "id": "26cac3ec-0bed-49cf-802f-cdd0903f018c",
   "metadata": {},
   "outputs": [
    {
     "data": {
      "text/plain": [
       "(44696, 12)"
      ]
     },
     "execution_count": 19,
     "metadata": {},
     "output_type": "execute_result"
    }
   ],
   "source": [
    "df_input_selection.shape"
   ]
  },
  {
   "cell_type": "code",
   "execution_count": 30,
   "id": "654c9a20-5a4e-4766-9b0c-d2f9fc23e36f",
   "metadata": {},
   "outputs": [],
   "source": [
    "#Check for missing data\n",
    "def check_null(data):\n",
    "    total = data.isnull().sum().sort_values(ascending=False)\n",
    "    percent = ((data.isnull().sum()/data.isnull().count()).sort_values(ascending=False))*100\n",
    "    missing_data = pd.concat([total, percent], axis=1, keys=['Total', 'Percent'])\n",
    "    return missing_data"
   ]
  },
  {
   "cell_type": "code",
   "execution_count": 31,
   "id": "f8339aa5-855a-4195-a5d0-41547152a2e8",
   "metadata": {},
   "outputs": [
    {
     "data": {
      "text/html": [
       "<div>\n",
       "<style scoped>\n",
       "    .dataframe tbody tr th:only-of-type {\n",
       "        vertical-align: middle;\n",
       "    }\n",
       "\n",
       "    .dataframe tbody tr th {\n",
       "        vertical-align: top;\n",
       "    }\n",
       "\n",
       "    .dataframe thead th {\n",
       "        text-align: right;\n",
       "    }\n",
       "</style>\n",
       "<table border=\"1\" class=\"dataframe\">\n",
       "  <thead>\n",
       "    <tr style=\"text-align: right;\">\n",
       "      <th></th>\n",
       "      <th>Total</th>\n",
       "      <th>Percent</th>\n",
       "    </tr>\n",
       "  </thead>\n",
       "  <tbody>\n",
       "    <tr>\n",
       "      <th>popularity</th>\n",
       "      <td>0</td>\n",
       "      <td>0.0</td>\n",
       "    </tr>\n",
       "    <tr>\n",
       "      <th>artist_name_Layo &amp; Bushwacka!</th>\n",
       "      <td>0</td>\n",
       "      <td>0.0</td>\n",
       "    </tr>\n",
       "    <tr>\n",
       "      <th>artist_name_Phoebe Snow</th>\n",
       "      <td>0</td>\n",
       "      <td>0.0</td>\n",
       "    </tr>\n",
       "    <tr>\n",
       "      <th>artist_name_Phoebe Bridgers</th>\n",
       "      <td>0</td>\n",
       "      <td>0.0</td>\n",
       "    </tr>\n",
       "    <tr>\n",
       "      <th>artist_name_Phish</th>\n",
       "      <td>0</td>\n",
       "      <td>0.0</td>\n",
       "    </tr>\n",
       "    <tr>\n",
       "      <th>...</th>\n",
       "      <td>...</td>\n",
       "      <td>...</td>\n",
       "    </tr>\n",
       "    <tr>\n",
       "      <th>artist_name_Gov't Mule</th>\n",
       "      <td>0</td>\n",
       "      <td>0.0</td>\n",
       "    </tr>\n",
       "    <tr>\n",
       "      <th>artist_name_Goth Babe</th>\n",
       "      <td>0</td>\n",
       "      <td>0.0</td>\n",
       "    </tr>\n",
       "    <tr>\n",
       "      <th>artist_name_Gotay \"El Autentiko\"</th>\n",
       "      <td>0</td>\n",
       "      <td>0.0</td>\n",
       "    </tr>\n",
       "    <tr>\n",
       "      <th>artist_name_Gotan Project</th>\n",
       "      <td>0</td>\n",
       "      <td>0.0</td>\n",
       "    </tr>\n",
       "    <tr>\n",
       "      <th>mode_Minor</th>\n",
       "      <td>0</td>\n",
       "      <td>0.0</td>\n",
       "    </tr>\n",
       "  </tbody>\n",
       "</table>\n",
       "<p>6657 rows × 2 columns</p>\n",
       "</div>"
      ],
      "text/plain": [
       "                                  Total  Percent\n",
       "popularity                            0      0.0\n",
       "artist_name_Layo & Bushwacka!         0      0.0\n",
       "artist_name_Phoebe Snow               0      0.0\n",
       "artist_name_Phoebe Bridgers           0      0.0\n",
       "artist_name_Phish                     0      0.0\n",
       "...                                 ...      ...\n",
       "artist_name_Gov't Mule                0      0.0\n",
       "artist_name_Goth Babe                 0      0.0\n",
       "artist_name_Gotay \"El Autentiko\"      0      0.0\n",
       "artist_name_Gotan Project             0      0.0\n",
       "mode_Minor                            0      0.0\n",
       "\n",
       "[6657 rows x 2 columns]"
      ]
     },
     "execution_count": 31,
     "metadata": {},
     "output_type": "execute_result"
    }
   ],
   "source": [
    "check_null(df_scaled)"
   ]
  },
  {
   "cell_type": "code",
   "execution_count": 7,
   "id": "8a9bf4b5-d8ed-4e32-a6fa-b4d90fe15fa4",
   "metadata": {},
   "outputs": [],
   "source": [
    "X_train, X_test, y_train, y_test = train_test_split(df_input, df_target, test_size=0.3, random_state=1001)"
   ]
  },
  {
   "cell_type": "code",
   "execution_count": 8,
   "id": "4232a799-4b18-42f4-8f84-0e0f83fb4689",
   "metadata": {},
   "outputs": [],
   "source": [
    "X_train_select, X_test_select, y_train_select, y_test_select = train_test_split(df_input_selection, df_target, test_size=0.3, random_state=1001)"
   ]
  },
  {
   "cell_type": "code",
   "execution_count": null,
   "id": "e0fd0e90-e94b-4879-a54c-4bece4ba830f",
   "metadata": {},
   "outputs": [],
   "source": [
    "from sklearn.compose import ColumnTransformer\n",
    "from sklearn.impute import SimpleImputer\n",
    "from sklearn.pipeline import Pipeline\n",
    "from sklearn.preprocessing import OneHotEncoder\n",
    "\n",
    "# define individual transformers in a pipeline\n",
    "categorical_preprocessing = Pipeline([('ohe', OneHotEncoder())])\n",
    "numerical_preprocessing = Pipeline([('imputation', SimpleImputer())])\n",
    "\n",
    "# define which transformer applies to which columns\n",
    "preprocess = ColumnTransformer([\n",
    "    ('categorical_preprocessing', categorical_preprocessing, ['favorite_color']),\n",
    "    ('numerical_preprocessing', numerical_preprocessing, ['age'])\n",
    "])\n",
    "\n",
    "# create the final pipeline with preprocessing steps and \n",
    "# the final classifier step\n",
    "pipeline = Pipeline([\n",
    "    ('preprocess', preprocess),\n",
    "    ('clf', DecisionTreeClassifier())\n",
    "])\n",
    "\n",
    "# now fit the pipeline using the whole dataframe\n",
    "df_features = df[['favorite_color','age']]\n",
    "df_target = df['target']\n",
    "\n",
    "# call fit on the dataframes\n",
    "pipeline.fit(df_features, df_target)\n"
   ]
  },
  {
   "cell_type": "code",
   "execution_count": null,
   "id": "f0ee233d-8fa3-482a-b37a-ce4cd1fce59e",
   "metadata": {},
   "outputs": [],
   "source": [
    "numeric_features = ['ApplicantIncome', 'CoapplicantIncome', 'total_income', 'LoanAmount', 'Loan_Amount_Term']\n",
    "numeric_transformer = Pipeline(\n",
    "    steps=[(\"imputer\", SimpleImputer(strategy=\"median\")), (\"scaler\", StandardScaler())]\n",
    ")\n",
    "\n",
    "\n",
    "categorical_features = ['Gender', 'Married', 'Dependents', 'Education', 'Self_Employed', 'Credit_History', 'Property_Area']\n",
    "categorical_transformer = OneHotEncoder(handle_unknown=\"ignore\")\n",
    "\n",
    "preprocessor = ColumnTransformer(\n",
    "    transformers=[\n",
    "        (\"num\", numeric_transformer, numeric_features),\n",
    "        (\"cat\", categorical_transformer, categorical_features),\n",
    "    ]\n",
    ")\n",
    "\n",
    "\n",
    "# This dataset is way too high-dimensional. Better do PCA:\n",
    "pca = PCA()\n",
    "\n",
    "# Maybe some of the original features were good, too?\n",
    "selection = SelectKBest()\n",
    "\n",
    "# Build an transformer from PCA and Univariate selection:\n",
    "combined_features = FeatureUnion([(\"pca\", pca), (\"univ_select\", selection)])\n",
    "\n",
    "# We will initialize the classifier\n",
    "svm = SVC(kernel=\"linear\")\n",
    "\n",
    "# create our pipeline from FeatureUnion \n",
    "pipeline = Pipeline([(\"features\", combined_features), (\"svm\", svm)])\n",
    "\n",
    "# set up our parameters grid\n",
    "param_grid = {\"features__pca__n_components\": [1, 2, 3],\n",
    "                  \"features__univ_select__k\": [1, 2, 3],\n",
    "                  \"svm__C\":[0.1, 1, 10]}\n",
    "\n",
    "# create a Grid Search object\n",
    "grid_search = GridSearchCV(pipeline, param_grid, verbose=10, refit=True)    \n",
    "\n",
    "# fit the model and tune parameters\n",
    "grid_search.fit(X, y)\n",
    "\n",
    "\n",
    "\n",
    "\n",
    "# Append classifier to preprocessing pipeline.\n",
    "# Now we have a full prediction pipeline.\n",
    "clf = Pipeline(\n",
    "    steps=[(\"preprocessor\", preprocessor), ('f_classif', SelectKBest(k=3)), (\"classifier\", RandomForestClassifier())]\n",
    ")\n",
    "\n",
    "X_train, X_test, y_train, y_test = train_test_split(df_clean2, y, test_size=0.2, random_state=0)\n",
    "\n",
    "clf.fit(X_train, y_train)\n",
    "print(\"model score: %.3f\" % clf.score(X_test, y_test))"
   ]
  },
  {
   "cell_type": "code",
   "execution_count": null,
   "id": "8ce611ad-cc16-47cc-a040-6b5b5eefe9df",
   "metadata": {},
   "outputs": [],
   "source": [
    "param_grid = {\n",
    "    \"preprocessor__num__imputer__strategy\": [\"mean\", \"median\"],\n",
    "    'f_classif__k': [1, 2, 3, 4, 5, 6, 7, 8, 9, 10, 11, 12],\n",
    "    \"classifier__n_estimators\": [1, 10, 100],\n",
    "}\n",
    "\n",
    "grid_search = GridSearchCV(clf, param_grid, cv=10)\n",
    "grid_search"
   ]
  },
  {
   "cell_type": "code",
   "execution_count": null,
   "id": "d209e778-2e14-4821-8da6-96cbe44013bf",
   "metadata": {},
   "outputs": [],
   "source": [
    "grid_search.fit(X_train, y_train)\n",
    "\n",
    "print(\"Best params:\")\n",
    "print(grid_search.best_params_)"
   ]
  },
  {
   "cell_type": "code",
   "execution_count": null,
   "id": "560d85fd-d77f-4fc1-a639-7e0f8c0f2ed6",
   "metadata": {},
   "outputs": [],
   "source": [
    "pickle.dump(grid_search, open(\"model.p\", \"wb\" ))"
   ]
  },
  {
   "cell_type": "code",
   "execution_count": null,
   "id": "455b7964-3d68-4312-9c32-16d613df754f",
   "metadata": {},
   "outputs": [],
   "source": [
    "print(f\"Internal CV score: {grid_search.best_score_:.3f}\")"
   ]
  },
  {
   "cell_type": "code",
   "execution_count": null,
   "id": "f1251735-8a8a-4b04-902c-01f4c44a5adc",
   "metadata": {},
   "outputs": [],
   "source": [
    "print(\n",
    "    (\n",
    "        \"best random forest classifier from grid search: %.3f\"\n",
    "        % grid_search.score(X_test, y_test)\n",
    "    )\n",
    ")"
   ]
  },
  {
   "cell_type": "markdown",
   "id": "467cdb63-7aec-43e8-8288-781aafa18e48",
   "metadata": {},
   "source": [
    "# Decision Tree Modeling"
   ]
  },
  {
   "cell_type": "code",
   "execution_count": 21,
   "id": "57be06cb-43f1-4126-9ee0-38e12ae149ce",
   "metadata": {},
   "outputs": [
    {
     "name": "stdout",
     "output_type": "stream",
     "text": [
      "[0.19676789 0.08354284 0.08999763 0.06682518 0.06596915 0.08522439\n",
      " 0.05243515 0.12490761 0.1007359  0.06002843 0.07356581]\n",
      "0.4341715976331361\n",
      "Accuracy: 0.4341715976331361\n",
      "Precision: [0.29194631 0.67009426 0.39924242 0.73254836 0.40216486 0.48044218\n",
      " 0.29579832 0.38125    0.29752705 0.41587575]\n",
      "Recall: [0.29367089 0.62710505 0.43953294 0.73876166 0.40216486 0.47359598\n",
      " 0.28594639 0.39323127 0.30701754 0.38933764]\n"
     ]
    }
   ],
   "source": [
    "# Create Decision Tree classifer object\n",
    "clf = DecisionTreeClassifier(class_weight = 'balanced')\n",
    "\n",
    "# Train Decision Tree Classifer\n",
    "clf = clf.fit(X_train,y_train)\n",
    "\n",
    "#Predict the response for test dataset\n",
    "y_pred = clf.predict(X_test)\n",
    "\n",
    "print(clf.feature_importances_)\n",
    "\n",
    "# Model Accuracy, how often is the classifier correct?\n",
    "print(\"Accuracy:\",metrics.accuracy_score(y_test, y_pred))\n",
    "\n",
    "# Model Precision: what percentage of positive tuples are labeled as such?\n",
    "print(\"Precision:\",metrics.precision_score(y_test, y_pred, average = None))\n",
    "\n",
    "# Model Recall: what percentage of positive tuples are labelled as such?\n",
    "print(\"Recall:\",metrics.recall_score(y_test, y_pred, average = None))"
   ]
  },
  {
   "cell_type": "code",
   "execution_count": 10,
   "id": "7737cccb-6782-4d32-9e4f-8b7933e50410",
   "metadata": {},
   "outputs": [
    {
     "name": "stdout",
     "output_type": "stream",
     "text": [
      "[0.18716286 0.0691887  0.07491708 ... 0.         0.00465268 0.00585512]\n",
      "Accuracy: 0.5404579014095011\n",
      "Precision: [0.32904884 0.73213046 0.47935003 0.77694407 0.48181238 0.51269394\n",
      " 0.70841751 0.40629096 0.46096402]\n",
      "Recall: [0.34758995 0.70099668 0.46671061 0.78660221 0.49281984 0.48145695\n",
      " 0.70985155 0.42465753 0.45816464]\n"
     ]
    }
   ],
   "source": [
    "# Create Decision Tree classifer object\n",
    "clf = DecisionTreeClassifier(class_weight = 'balanced')\n",
    "\n",
    "# Train Decision Tree Classifer\n",
    "clf = clf.fit(X_train,y_train)\n",
    "\n",
    "#Predict the response for test dataset\n",
    "y_pred = clf.predict(X_test)\n",
    "\n",
    "print(clf.feature_importances_)\n",
    "\n",
    "# Model Accuracy, how often is the classifier correct?\n",
    "print(\"Accuracy:\",metrics.accuracy_score(y_test, y_pred))\n",
    "\n",
    "# Model Precision: what percentage of positive tuples are labeled as such?\n",
    "print(\"Precision:\",metrics.precision_score(y_test, y_pred, average = None))\n",
    "\n",
    "# Model Recall: what percentage of positive tuples are labelled as such?\n",
    "print(\"Recall:\",metrics.recall_score(y_test, y_pred, average = None))"
   ]
  },
  {
   "cell_type": "markdown",
   "id": "5b3abc30-ee2a-4075-814f-86f07d01ec9c",
   "metadata": {},
   "source": [
    "# Random Forest Classifier Modeling"
   ]
  },
  {
   "cell_type": "code",
   "execution_count": 24,
   "id": "2632105d-c711-4cc5-8840-35921a8610e5",
   "metadata": {},
   "outputs": [
    {
     "name": "stdout",
     "output_type": "stream",
     "text": [
      "[0.18421103 0.09071331 0.09418691 0.0716589  0.0861858  0.08599675\n",
      " 0.05570252 0.09810923 0.0982844  0.06069467 0.0742565 ]\n",
      "Model accuracy score with 10 decision-trees : 0.5528\n",
      "Precision: [0.40019194 0.7978096  0.59094791 0.84037162 0.55904211 0.65727273\n",
      " 0.36011905 0.53011026 0.34579439 0.48251748]\n",
      "Recall: [0.35189873 0.75942261 0.57714762 0.84393554 0.56369692 0.60603521\n",
      " 0.39317628 0.50362611 0.3245614  0.61308562]\n"
     ]
    }
   ],
   "source": [
    "# instantiate the classifier \n",
    "rfc = RandomForestClassifier(n_estimators=100, random_state=0)\n",
    "\n",
    "# fit the model\n",
    "rfc.fit(X_train, y_train)\n",
    "\n",
    "# Predict the Test set results\n",
    "y_pred = rfc.predict(X_test)\n",
    "\n",
    "y_pred_prob = rfc.predict_proba(X_test)\n",
    "\n",
    "print(rfc.feature_importances_)\n",
    "\n",
    "# Check accuracy score\n",
    "print('Model accuracy score with 10 decision-trees : {0:0.4f}'. format(accuracy_score(y_test, y_pred)))\n",
    "\n",
    "# Model Precision: what percentage of positive tuples are labeled as such?\n",
    "print(\"Precision:\",metrics.precision_score(y_test, y_pred, average = None))\n",
    "\n",
    "# Model Recall: what percentage of positive tuples are labelled as such?\n",
    "print(\"Recall:\",metrics.recall_score(y_test, y_pred, average = None))"
   ]
  },
  {
   "cell_type": "code",
   "execution_count": 11,
   "id": "5a8ff487-4fae-4125-91bf-d9cc75800894",
   "metadata": {},
   "outputs": [
    {
     "name": "stdout",
     "output_type": "stream",
     "text": [
      "[1.13895822e-01 5.91186501e-02 5.82245923e-02 ... 7.59480090e-05\n",
      " 4.98677444e-03 5.59246569e-03]\n",
      "Model accuracy score with 10 decision-trees : 0.6968\n",
      "Precision: [0.51832907 0.8815261  0.68975265 0.85839514 0.67278481 0.73281361\n",
      " 0.75822861 0.598      0.54042806]\n",
      "Recall: [0.41276307 0.87508306 0.64337508 0.87914365 0.69386423 0.68476821\n",
      " 0.85492578 0.61438356 0.61336032]\n"
     ]
    }
   ],
   "source": [
    "# instantiate the classifier \n",
    "rfc = RandomForestClassifier(n_estimators=100, random_state=0)\n",
    "\n",
    "# fit the model\n",
    "rfc.fit(X_train, y_train)\n",
    "\n",
    "# Predict the Test set results\n",
    "y_pred = rfc.predict(X_test)\n",
    "\n",
    "y_pred_prob = rfc.predict_proba(X_test)\n",
    "\n",
    "print(rfc.feature_importances_)\n",
    "\n",
    "# Check accuracy score\n",
    "print('Model accuracy score with 10 decision-trees : {0:0.4f}'. format(accuracy_score(y_test, y_pred)))\n",
    "\n",
    "# Model Precision: what percentage of positive tuples are labeled as such?\n",
    "print(\"Precision:\",metrics.precision_score(y_test, y_pred, average = None))\n",
    "\n",
    "# Model Recall: what percentage of positive tuples are labelled as such?\n",
    "print(\"Recall:\",metrics.recall_score(y_test, y_pred, average = None))"
   ]
  },
  {
   "cell_type": "code",
   "execution_count": 13,
   "id": "57b237b2-910d-4c4e-bf14-a340763f9729",
   "metadata": {},
   "outputs": [
    {
     "name": "stdout",
     "output_type": "stream",
     "text": [
      "[0.11389582 0.05911865 0.05822459 0.05470436 0.05707098 0.02583672\n",
      " 0.03462315 0.06072535 0.05983345 0.04621305 0.04284767 0.03929976]\n"
     ]
    }
   ],
   "source": [
    "# print out feature importaces\n",
    "print(rfc.feature_importances_[0:12])"
   ]
  },
  {
   "cell_type": "markdown",
   "id": "4348b8f1-e281-47c2-a473-47221cf2952b",
   "metadata": {},
   "source": [
    "# XGBoost"
   ]
  },
  {
   "cell_type": "code",
   "execution_count": 48,
   "id": "10946232-f254-42e3-8816-05052a234759",
   "metadata": {},
   "outputs": [],
   "source": [
    "data_dmatrix = xgb.DMatrix(data=df_input, label=df_target)"
   ]
  },
  {
   "cell_type": "code",
   "execution_count": 49,
   "id": "249a6091-db69-4ee4-99df-04a0c0a21420",
   "metadata": {},
   "outputs": [
    {
     "name": "stdout",
     "output_type": "stream",
     "text": [
      "[00:14:34] WARNING: D:\\bld\\xgboost-split_1637426510059\\work\\src\\learner.cc:1115: Starting in XGBoost 1.3.0, the default evaluation metric used with the objective 'multi:softmax' was changed from 'merror' to 'mlogloss'. Explicitly set eval_metric if you'd like to restore the old behavior.\n",
      "[0.01035097 0.00378485 0.00308919 ... 0.         0.00389245 0.00236322]\n",
      "Model accuracy score: 0.7196\n",
      "Precision: [0.57052797 0.89451477 0.71731191 0.89099859 0.71438127 0.76082005\n",
      " 0.78727386 0.59037711 0.58966565]\n",
      "Recall: [0.49151392 0.84518272 0.64733026 0.875      0.69712794 0.66357616\n",
      " 0.85155196 0.62191781 0.7854251 ]\n"
     ]
    }
   ],
   "source": [
    "xg_reg = xgb.XGBRegressor(objective= 'multi:softmax', colsample_bytree = 0.3, learning_rate = 0.2,\n",
    "                max_depth = 5, alpha = 0.5, n_estimators = 100, num_class = 10)\n",
    "\n",
    "xg_reg.fit(X_train,y_train)\n",
    "\n",
    "preds = xg_reg.predict(X_test)\n",
    "\n",
    "print(xg_reg.feature_importances_)\n",
    "\n",
    "# Check accuracy score\n",
    "print('Model accuracy score: {0:0.4f}'. format(accuracy_score(y_test, preds)))\n",
    "\n",
    "# Model Precision: what percentage of positive tuples are labeled as such?\n",
    "print(\"Precision:\",metrics.precision_score(y_test, preds, average = None))\n",
    "\n",
    "# Model Recall: what percentage of positive tuples are labelled as such?\n",
    "print(\"Recall:\",metrics.recall_score(y_test, preds, average = None))"
   ]
  },
  {
   "cell_type": "code",
   "execution_count": 38,
   "id": "6c479bb6-13f4-4ba0-a24a-84736c21653a",
   "metadata": {},
   "outputs": [],
   "source": [
    "# save the model to disk\n",
    "filename = 'xgboost_baseline_model.sav'\n",
    "pickle.dump(xg_reg, open(filename, 'wb'))\n",
    " \n",
    "# some time later...\n",
    " "
   ]
  },
  {
   "cell_type": "code",
   "execution_count": 39,
   "id": "a16cedc7-d957-4309-8fff-8cdc2102c305",
   "metadata": {},
   "outputs": [
    {
     "name": "stdout",
     "output_type": "stream",
     "text": [
      "Model accuracy score: 0.7196\n"
     ]
    }
   ],
   "source": [
    "# load the model from disk\n",
    "loaded_model = pickle.load(open(filename, 'rb'))\n",
    "result = loaded_model.predict(X_test)\n",
    "\n",
    "# Check accuracy score\n",
    "print('Model accuracy score: {0:0.4f}'. format(accuracy_score(y_test, preds)))\n"
   ]
  },
  {
   "cell_type": "code",
   "execution_count": 40,
   "id": "eacda768-0f90-417c-8e41-1a487814f41a",
   "metadata": {},
   "outputs": [
    {
     "name": "stdout",
     "output_type": "stream",
     "text": [
      "[0.01035097 0.00378485 0.00308919 0.00441411 0.00468215 0.0004395\n",
      " 0.0004502  0.00482281 0.00348253 0.00198502 0.00166047]\n"
     ]
    }
   ],
   "source": [
    "print(xg_reg.feature_importances_[0:11])"
   ]
  },
  {
   "cell_type": "code",
   "execution_count": 9,
   "id": "53b3aa9e-71de-456f-acf9-f3499de295e9",
   "metadata": {},
   "outputs": [],
   "source": [
    "data_dmatrix_select = xgb.DMatrix(data=df_input_selection, label=df_target)"
   ]
  },
  {
   "cell_type": "code",
   "execution_count": 10,
   "id": "af73ec25-f78a-4e4a-a901-03b02ce558a9",
   "metadata": {},
   "outputs": [
    {
     "name": "stdout",
     "output_type": "stream",
     "text": [
      "[01:40:20] WARNING: D:\\bld\\xgboost-split_1637426510059\\work\\src\\learner.cc:1115: Starting in XGBoost 1.3.0, the default evaluation metric used with the objective 'multi:softmax' was changed from 'merror' to 'mlogloss'. Explicitly set eval_metric if you'd like to restore the old behavior.\n",
      "[0.00785033 0.00368485 0.00267765 ... 0.         0.00281784 0.0028021 ]\n",
      "Model accuracy score: 0.6989\n",
      "Precision: [0.55815832 0.8888102  0.70606061 0.88912429 0.68667546 0.71331828\n",
      " 0.7630273  0.55230669 0.57523434]\n",
      "Recall: [0.46911066 0.83388704 0.61437047 0.86947514 0.67950392 0.62781457\n",
      " 0.82995951 0.58219178 0.78677463]\n"
     ]
    }
   ],
   "source": [
    "xg_reg_select = xgb.XGBRegressor(objective= 'multi:softmax', colsample_bytree = 0.3, learning_rate = 0.2,\n",
    "                max_depth = 5, alpha = 0.5, n_estimators = 100, num_class = 10)\n",
    "\n",
    "xg_reg_select.fit(X_train_select,y_train_select)\n",
    "\n",
    "preds = xg_reg_select.predict(X_test_select)\n",
    "\n",
    "print(xg_reg_select.feature_importances_)\n",
    "\n",
    "# Check accuracy score\n",
    "print('Model accuracy score: {0:0.4f}'. format(accuracy_score(y_test, preds)))\n",
    "\n",
    "# Model Precision: what percentage of positive tuples are labeled as such?\n",
    "print(\"Precision:\",metrics.precision_score(y_test, preds, average = None))\n",
    "\n",
    "# Model Recall: what percentage of positive tuples are labelled as such?\n",
    "print(\"Recall:\",metrics.recall_score(y_test, preds, average = None))"
   ]
  },
  {
   "cell_type": "code",
   "execution_count": 58,
   "id": "01c69a87-39d2-4293-94d5-21c2caa5f052",
   "metadata": {},
   "outputs": [
    {
     "name": "stdout",
     "output_type": "stream",
     "text": [
      "[0.00970772 0.00471116 0.00304572 0.00239055 0.00455671 0.00430703\n",
      " 0.00367696 0.00210738 0.00158593 0.00091581 0.0008283 ]\n"
     ]
    }
   ],
   "source": [
    "print(xg_reg_select.feature_importances_[0:11])"
   ]
  },
  {
   "cell_type": "code",
   "execution_count": 17,
   "id": "945c8655-f233-4cc5-b8e0-270fc8c8c6ca",
   "metadata": {},
   "outputs": [],
   "source": [
    "xgb.plot_importance(xg_reg_select, max_num_features = 10)\n",
    "plt.rcParams['figure.figsize'] = [10, 10]"
   ]
  },
  {
   "cell_type": "code",
   "execution_count": 18,
   "id": "1393c591-88b8-4580-a9c0-ccee4c882d1d",
   "metadata": {},
   "outputs": [
    {
     "data": {
      "image/png": "[encoded data removed]",
      "text/plain": [
       "<Figure size 1000x1000 with 1 Axes>"
      ]
     },
     "metadata": {},
     "output_type": "display_data"
    }
   ],
   "source": [
    "plt.show()"
   ]
  },
  {
   "cell_type": "code",
   "execution_count": 10,
   "id": "4777eb6d-4611-4aba-b3e4-32262a3e2e3d",
   "metadata": {},
   "outputs": [],
   "source": [
    "from sklearn import svm, datasets\n",
    "import sklearn.model_selection as model_selection\n",
    "from sklearn.metrics import accuracy_score\n",
    "from sklearn.metrics import f1_score"
   ]
  },
  {
   "cell_type": "code",
   "execution_count": 22,
   "id": "1b6eabc8-c14c-47c2-9bf4-342b2a25269b",
   "metadata": {},
   "outputs": [
    {
     "data": {
      "text/plain": [
       "(31287, 12)"
      ]
     },
     "execution_count": 22,
     "metadata": {},
     "output_type": "execute_result"
    }
   ],
   "source": [
    "X_train_select.shape"
   ]
  },
  {
   "cell_type": "code",
   "execution_count": 23,
   "id": "583a0dd8-3a71-4814-8c7c-783569b6b1a5",
   "metadata": {},
   "outputs": [],
   "source": [
    "rbf = svm.SVC(kernel='rbf', gamma=0.5, C=0.1).fit(X_train_select, y_train_select)"
   ]
  },
  {
   "cell_type": "code",
   "execution_count": null,
   "id": "55884806-6157-4a02-ad30-e62ec9304098",
   "metadata": {},
   "outputs": [],
   "source": [
    "rbf_pred = rbf.predict(X_test_select)"
   ]
  },
  {
   "cell_type": "code",
   "execution_count": 27,
   "id": "18fb13cb-f4e2-4f94-8e6e-fa2ece847eb3",
   "metadata": {},
   "outputs": [
    {
     "name": "stdout",
     "output_type": "stream",
     "text": [
      "Accuracy (RBF Kernel):  58.99\n",
      "F1 (RBF Kernel):  58.82\n"
     ]
    }
   ],
   "source": [
    "rbf_accuracy = accuracy_score(y_test, rbf_pred)\n",
    "rbf_f1 = f1_score(y_test, rbf_pred, average='weighted')\n",
    "print('Accuracy (RBF Kernel): ', \"%.2f\" % (rbf_accuracy*100))\n",
    "print('F1 (RBF Kernel): ', \"%.2f\" % (rbf_f1*100))"
   ]
  },
  {
   "cell_type": "code",
   "execution_count": 43,
   "id": "60ddec5a-e3e9-445c-beac-376d703cd007",
   "metadata": {},
   "outputs": [],
   "source": [
    "poly = svm.SVC(kernel='poly', gamma=0.5, degree=3, C=0.15).fit(X_train_select, y_train_select)"
   ]
  },
  {
   "cell_type": "code",
   "execution_count": 41,
   "id": "8bfa51d7-9146-4608-8130-04be536b188e",
   "metadata": {},
   "outputs": [],
   "source": [
    "poly_pred = poly.predict(X_test_select)"
   ]
  },
  {
   "cell_type": "code",
   "execution_count": 42,
   "id": "b20edabb-3116-477d-8778-8b9c8407e0d5",
   "metadata": {},
   "outputs": [
    {
     "name": "stdout",
     "output_type": "stream",
     "text": [
      "Accuracy (Polynomial Kernel):  59.89\n",
      "F1 (Polynomial Kernel):  60.16\n"
     ]
    }
   ],
   "source": [
    "poly_accuracy = accuracy_score(y_test, poly_pred)\n",
    "poly_f1 = f1_score(y_test, poly_pred, average='weighted')\n",
    "print('Accuracy (Polynomial Kernel): ', \"%.2f\" % (poly_accuracy*100))\n",
    "print('F1 (Polynomial Kernel): ', \"%.2f\" % (poly_f1*100))"
   ]
  },
  {
   "cell_type": "code",
   "execution_count": 28,
   "id": "cc234f65-ac5b-4d79-a6ed-5b4a49befed3",
   "metadata": {},
   "outputs": [],
   "source": [
    "sig = svm.SVC(kernel='sigmoid', gamma='scale', C=0.1).fit(X_train_select, y_train_select)"
   ]
  },
  {
   "cell_type": "code",
   "execution_count": 29,
   "id": "179ae33b-33b7-47ca-aece-1b8a44b60b02",
   "metadata": {},
   "outputs": [],
   "source": [
    "sig_pred = sig.predict(X_test_select)"
   ]
  },
  {
   "cell_type": "code",
   "execution_count": 30,
   "id": "a71e77d4-2707-409c-8aab-cde2f2387a1f",
   "metadata": {},
   "outputs": [
    {
     "name": "stdout",
     "output_type": "stream",
     "text": [
      "Accuracy (Sigmoid Kernel):  31.11\n",
      "F1 (Sigmoid Kernel):  30.74\n"
     ]
    }
   ],
   "source": [
    "sig_accuracy = accuracy_score(y_test, sig_pred)\n",
    "sig_f1 = f1_score(y_test, sig_pred, average='weighted')\n",
    "print('Accuracy (Sigmoid Kernel): ', \"%.2f\" % (sig_accuracy*100))\n",
    "print('F1 (Sigmoid Kernel): ', \"%.2f\" % (sig_f1*100))"
   ]
  },
  {
   "cell_type": "code",
   "execution_count": null,
   "id": "e14d86fc-c39e-46ec-a11f-30e7f58e1a40",
   "metadata": {},
   "outputs": [],
   "source": []
  }
 ],
 "metadata": {
  "kernelspec": {
   "display_name": "Bootcamp",
   "language": "python",
   "name": "bootcamp"
  },
  "language_info": {
   "codemirror_mode": {
    "name": "ipython",
    "version": 3
   },
   "file_extension": ".py",
   "mimetype": "text/x-python",
   "name": "python",
   "nbconvert_exporter": "python",
   "pygments_lexer": "ipython3",
   "version": "3.8.12"
  }
 },
 "nbformat": 4,
 "nbformat_minor": 5
}
